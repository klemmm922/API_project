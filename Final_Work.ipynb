{
 "cells": [
  {
   "cell_type": "markdown",
   "id": "e6f87188",
   "metadata": {},
   "source": [
    "# Final Work\n",
    "\n",
    "To sum up all the knowledge learnt in this course, i want you to create a package in order to easily work with an API, following all the best practices seen.\n",
    "\n",
    "If you have any questions, do not hesitate to contact me.\n",
    "\n",
    "\n",
    "## Context\n",
    "\n",
    "You want to build a service that will be easily be pluggable to a message app, an email app, or other in order to integrate Movie ratings. (like Giphy, but for Movies)\n",
    "\n",
    "You're on the road to create yout first MVP, but as you only want (for the moment) to spend time on the service, you decide to delegate the movies information for the moment.\n",
    "\n",
    "You find the following API that could satisfy your needs for movies information:\n",
    "\n",
    "https://imdb-api.com/API\n",
    "\n",
    "You're now ready to start your business !\n",
    "\n",
    "## Roadmap\n",
    "\n",
    "You should be able, through you app, to search a movie by name and get its review !\n",
    "\n",
    "What are the keys for easily reach you objective ?\n",
    "- What data should i want for my final Python object ? (and so for the final user)\n",
    "- What level of data the api provide ?\n",
    "- How my package should work ? (definition, parameters, call, ...)\n",
    "\n",
    "## Expectations\n",
    "\n",
    "Using the knowledge and the best practices seen in this course, i want you to create a movie package that will be used to generate Movie(s) as a Python Object.\n",
    "\n",
    "The rating will consider :\n",
    "- The quality of the code (Pep8 conventions)\n",
    "- The global modules and packages structure\n",
    "- The correct behavior of your code\n",
    "- The correct usage of a versionning system (git for example on github or gitlab)\n",
    "\n",
    "If you feel comfy with the previous points, you can also try to :\n",
    "- Implement a UI for your package\n",
    "- Writing tests to your current package (using pytest for example)\n",
    "https://docs.pytest.org/en/6.2.x/\n",
    "- Create a private package for your project (usable with pip for example)\n",
    "- Use CI/CD tools like github actions\n",
    "\n",
    "\n",
    "## Deliverable\n",
    "\n",
    "You will send me link to the repositorie of your project (host on github, gitlab, ...) with a detailed README in order show me how to install and launch your application.\n",
    "\n",
    "Your application could just be a \"main.py\"\n",
    "\n",
    "I will also value :\n",
    "- A small video teaser for your project\n",
    "- A recorderd demo\n",
    "- A recorded ppt presentation (like i was a investor for your app)\n",
    "- Anything that will present your work from a business point of view instead of a technical one.\n",
    "\n",
    "## Submission\n",
    "\n",
    "As discuss with you, you'll have 2 weeks to submit your job from the last Practical course :\n",
    "\n",
    "- DE : Before sunday 13/11 at 23h59\n",
    "- DS1 & DS2 : Before sunday 04/12 at 23h59\n",
    "\n",
    "I expecte a link to your private (or not) repository, if it's private, do not forget to add me as reviewer:\n",
    "https://github.com/Clement-Roque\n",
    "\n",
    "\n",
    "## Tips\n",
    "\n",
    "As you will be limited by the number of request you can make on the api, save a dump of a response in order to use it \"offline\" as seen in the first Notebook.\n",
    "\n",
    "Do not store your key directly in your code, use .env variable instead\n",
    "\n",
    "## Other ressources\n",
    "\n",
    "Here is a collection of usefull link for python programmer :\n",
    "\n",
    "https://docs.python-guide.org/\n",
    "\n",
    "https://www.python.org/dev/peps/pep-0020/\n",
    "\n",
    "https://pep8.org/"
   ]
  },
  {
   "cell_type": "markdown",
   "id": "30dcc236",
   "metadata": {},
   "source": [
    "-------------"
   ]
  },
  {
   "cell_type": "code",
   "execution_count": 19,
   "id": "0f0bfb7a",
   "metadata": {},
   "outputs": [],
   "source": [
    "import requests \n",
    "import json\n",
    "\n",
    "class searchMovieRequest:\n",
    "    _base_url = \"https://imdb-api.com/API\"\n",
    "    _api_key = \"k_mznd1sb2\"\n",
    "        \n",
    "    @classmethod\n",
    "    def get_movie_id(cls,name):\n",
    "        result = requests.get(cls._base_url+\"/SearchMovie/\"+cls._api_key+\"/\"+name).content\n",
    "        # but we don't want to return all the content of the request, we want to return only the id of the movie\n",
    "        # so we need to parse the result\n",
    "\n",
    "        result = json.loads(result)\n",
    "\n",
    "        # now we have a dictionary with the result\n",
    "        # we can access the id of the movie with the key \"id\"\n",
    "\n",
    "        # we admit that we are going to return only the first one\n",
    "\n",
    "        return result[\"results\"][0][\"id\"]\n"
   ]
  },
  {
   "cell_type": "code",
   "execution_count": 20,
   "id": "d566b272",
   "metadata": {},
   "outputs": [
    {
     "name": "stdout",
     "output_type": "stream",
     "text": [
      "tt0133093\n"
     ]
    }
   ],
   "source": [
    "print(searchMovieRequest.get_movie_id(\"The Matrix\"))"
   ]
  },
  {
   "cell_type": "code",
   "execution_count": 50,
   "id": "262dee6e",
   "metadata": {},
   "outputs": [],
   "source": [
    "# github_request.py\n",
    "import requests\n",
    "\n",
    "class ratingRequest:\n",
    "    _base_url = \"https://imdb-api.com/API\"\n",
    "    _api_key = \"k_mznd1sb2\"\n",
    "        \n",
    "    @classmethod\n",
    "    def get_rating(cls,id):\n",
    "\n",
    "        result = requests.get(cls._base_url+\"/Ratings/\"+cls._api_key+\"/\"+id).content\n",
    "\n",
    "        result = json.loads(result)\n",
    "\n",
    "        # we have the rating of different sources so we are going to take the mean of all of them\n",
    "        # the exception is about the rating from metacritic and rottenTomatoes wich is between 0 and 100, not between 0 and 10\n",
    "\n",
    "        imDb = float (result[\"imDb\"])\n",
    "        metacritic = float (result[\"metacritic\"])/10\n",
    "        theMovieDb = float (result[\"theMovieDb\"])\n",
    "        rottenTomatoes = float (result[\"rottenTomatoes\"])/10\n",
    "        filmAffinity = float (result[\"filmAffinity\"])\n",
    "\n",
    "        mean = (imDb+metacritic+theMovieDb+rottenTomatoes+filmAffinity)/5\n",
    "\n",
    "        return mean\n",
    "        "
   ]
  },
  {
   "cell_type": "code",
   "execution_count": 52,
   "id": "29633cfe",
   "metadata": {},
   "outputs": [
    {
     "name": "stdout",
     "output_type": "stream",
     "text": [
      "8.18\n"
     ]
    }
   ],
   "source": [
    "print(ratingRequest.get_rating(\"tt0133093\"))"
   ]
  },
  {
   "cell_type": "code",
   "execution_count": 53,
   "id": "73bdde64",
   "metadata": {},
   "outputs": [],
   "source": [
    "class movie:\n",
    "    def __init__(self,name):\n",
    "        self.name = name\n",
    "        self.id = searchMovieRequest.get_movie_id(name)\n",
    "        self.rating = ratingRequest.get_rating(self.id)\n",
    "\n",
    "    def __str__(self):\n",
    "\n",
    "        response = \"The movie \"+self.name+\" has an average rating of \"+str(self.rating)\n",
    "\n",
    "        return response"
   ]
  },
  {
   "cell_type": "code",
   "execution_count": 54,
   "id": "9f56a9f9",
   "metadata": {},
   "outputs": [
    {
     "name": "stdout",
     "output_type": "stream",
     "text": [
      "The movie The Matrix has an average rating of 8.18\n"
     ]
    }
   ],
   "source": [
    "print(movie(\"The Matrix\"))"
   ]
  },
  {
   "cell_type": "code",
   "execution_count": 75,
   "id": "91fb9f01",
   "metadata": {},
   "outputs": [],
   "source": [
    "class boxOfficeAllTimeRequest:\n",
    "    _base_url = \"https://imdb-api.com/API\"\n",
    "    _api_key = \"k_mznd1sb2\"\n",
    "\n",
    "    @classmethod\n",
    "    def get_box_office(cls):\n",
    "\n",
    "        list = [] \n",
    "\n",
    "        result = requests.get(cls._base_url+\"/BoxOfficeAllTime/\"+cls._api_key).content\n",
    "\n",
    "        json1 = json.loads(result).get(\"items\")\n",
    "\n",
    "        for i in json1:\n",
    "            title = i.get(\"title\")\n",
    "            list.append(title)\n",
    "\n",
    "        return list "
   ]
  },
  {
   "cell_type": "code",
   "execution_count": 76,
   "id": "2c801f73",
   "metadata": {},
   "outputs": [
    {
     "name": "stdout",
     "output_type": "stream",
     "text": [
      "['Avatar', 'Avengers: Endgame', 'Titanic', 'Star Wars: Episode VII - The Force Awakens', 'Avengers: Infinity War', 'Spider-Man: No Way Home', 'Jurassic World', 'The Lion King', 'The Avengers', 'Furious 7', 'Top Gun: Maverick', 'Frozen II', 'Avengers: Age of Ultron', 'Black Panther', 'Harry Potter and the Deathly Hallows: Part 2', 'Star Wars: Episode VIII - The Last Jedi', 'Jurassic World: Fallen Kingdom', 'Frozen', 'Beauty and the Beast', 'Incredibles 2', 'The Fate of the Furious', 'Iron Man 3', 'Minions', 'Captain America: Civil War', 'Aquaman', 'The Lord of the Rings: The Return of the King', 'Spider-Man: Far from Home', 'Captain Marvel', 'Transformers: Dark of the Moon', 'Jurassic Park', 'Skyfall', 'Joker', 'Transformers: Age of Extinction', 'The Dark Knight Rises', 'Star Wars: Episode IX - The Rise of Skywalker', 'Toy Story 4', 'Toy Story 3', \"Pirates of the Caribbean: Dead Man's Chest\", 'The Lion King', 'Rogue One: A Star Wars Story', 'Aladdin', 'Pirates of the Caribbean: On Stranger Tides', 'Despicable Me 3', 'Finding Dory', 'Star Wars: Episode I - The Phantom Menace', 'Alice in Wonderland', 'Zootopia', \"Harry Potter and the Sorcerer's Stone\", 'The Hobbit: An Unexpected Journey', 'The Dark Knight', 'Jurassic World: Dominion', 'Harry Potter and the Deathly Hallows: Part 1', 'Despicable Me 2', 'The Jungle Book', 'Jumanji: Welcome to the Jungle', 'The Hobbit: The Battle of the Five Armies', \"Pirates of the Caribbean: At World's End\", 'The Hobbit: The Desolation of Smaug', 'Doctor Strange in the Multiverse of Madness', 'The Lord of the Rings: The Two Towers', 'Harry Potter and the Order of the Phoenix', 'Finding Nemo', 'Minions: The Rise of Gru', 'Harry Potter and the Half-Blood Prince', 'Shrek 2', 'Bohemian Rhapsody', 'The Battle at Lake Changjin', 'The Lord of the Rings: The Fellowship of the Ring', 'Harry Potter and the Goblet of Fire', 'Spider-Man 3', 'The Secret Life of Pets', 'Ice Age: Dawn of the Dinosaurs', 'Spectre', 'Harry Potter and the Chamber of Secrets', 'Spider-Man: Homecoming', 'Ice Age: Continental Drift', 'Batman v Superman: Dawn of Justice', 'Wolf Warrior 2', 'Star Wars: Episode III - Revenge of the Sith', 'The Hunger Games: Catching Fire', 'Guardians of the Galaxy Vol. 2', 'Inside Out', 'Venom', 'Thor: Ragnarok', 'The Twilight Saga: Breaking Dawn - Part 2', 'Inception', 'Transformers: Revenge of the Fallen', 'Spider-Man', 'Wonder Woman', 'Hi, Mom', 'Independence Day', 'Fantastic Beasts and Where to Find Them', 'Shrek the Third', 'Coco', 'Jumanji: The Next Level', 'Harry Potter and the Prisoner of Azkaban', 'Pirates of the Caribbean: Dead Men Tell No Tales', 'E.T. the Extra-Terrestrial', 'Mission: Impossible - Fallout', '2012', 'Indiana Jones and the Kingdom of the Crystal Skull', 'Spider-Man 2', 'Fast & Furious 6', 'Deadpool 2', 'Deadpool', 'Star Wars: Episode IV - A New Hope', 'No Time to Die', 'Interstellar', 'Guardians of the Galaxy', 'The Batman', 'Thor: Love and Thunder', 'The Da Vinci Code', 'Fast & Furious Presents: Hobbs & Shaw', 'Maleficent', 'The Amazing Spider-Man', 'The Hunger Games: Mockingjay - Part 1', 'Shrek Forever After', \"Madagascar 3: Europe's Most Wanted\", 'Suicide Squad', 'X-Men: Days of Future Past', 'The Chronicles of Narnia: The Lion, the Witch and the Wardrobe', 'Monsters University', 'The Matrix Reloaded', 'Up', 'Ne Zha', 'F9: The Fast Saga', 'Gravity', 'Captain America: The Winter Soldier', 'The Twilight Saga: Breaking Dawn - Part 1', 'The Twilight Saga: New Moon', 'Dawn of the Planet of the Apes', 'Transformers', 'The Amazing Spider-Man 2', 'It', 'The Wandering Earth', 'The Twilight Saga: Eclipse', 'Mission: Impossible - Ghost Protocol', 'The Hunger Games', 'Detective Chinatown 3', 'Mission: Impossible - Rogue Nation', 'Forrest Gump', 'Doctor Strange', 'The Sixth Sense', 'Man of Steel', 'Ice Age: The Meltdown', 'Kung Fu Panda 2', 'Moana', 'Justice League', 'Big Hero 6', 'Fantastic Beasts: The Crimes of Grindelwald', 'Pirates of the Caribbean: The Curse of the Black Pearl', 'Star Wars: Episode II - Attack of the Clones', 'The Hunger Games: Mockingjay - Part 2', 'Thor: The Dark World', 'Sing', 'Kung Fu Panda', 'The Incredibles', 'The Martian', 'Hancock', 'Water Gate Bridge', 'Fast Five', 'Men in Black 3', 'Iron Man 2', 'Ratatouille', 'Ant-Man and the Wasp', 'How to Train Your Dragon 2', 'Logan', 'The Lost World: Jurassic Park', 'Casino Royale', 'The Passion of the Christ', 'Mamma Mia!', 'Life of Pi', 'Transformers: The Last Knight', 'Madagascar: Escape 2 Africa', 'War of the Worlds', 'Tangled', 'Quantum of Solace', 'Men in Black', 'The Croods', 'The Hangover Part II', 'Iron Man', 'I Am Legend', 'Ready Player One', 'Monsters, Inc.', 'Operation Red Sea', 'Night at the Museum', 'Fifty Shades of Grey', 'Kong: Skull Island', 'The Smurfs', 'Cars 2', 'King Kong', 'Puss in Boots', 'The Mermaid', 'Armageddon', 'The Day After Tomorrow', 'Ted', 'American Sniper', 'Mission: Impossible II', 'Detective Chinatown 2', 'X-Men: Apocalypse']\n"
     ]
    }
   ],
   "source": [
    "print(boxOfficeAllTimeRequest.get_box_office())"
   ]
  }
 ],
 "metadata": {
  "kernelspec": {
   "display_name": "Python 3.9.2 64-bit",
   "language": "python",
   "name": "python3"
  },
  "language_info": {
   "codemirror_mode": {
    "name": "ipython",
    "version": 3
   },
   "file_extension": ".py",
   "mimetype": "text/x-python",
   "name": "python",
   "nbconvert_exporter": "python",
   "pygments_lexer": "ipython3",
   "version": "3.9.2"
  },
  "vscode": {
   "interpreter": {
    "hash": "916dbcbb3f70747c44a77c7bcd40155683ae19c65e1c03b4aa3499c5328201f1"
   }
  }
 },
 "nbformat": 4,
 "nbformat_minor": 5
}
